{
 "cells": [
  {
   "cell_type": "markdown",
   "metadata": {},
   "source": [
    "# **LEVEL 1 (BASICS)**"
   ]
  },
  {
   "cell_type": "markdown",
   "metadata": {},
   "source": []
  },
  {
   "cell_type": "markdown",
   "metadata": {},
   "source": [
    "**1. Create a null vector of size 7 but the third and last value as 2.**"
   ]
  },
  {
   "cell_type": "code",
   "execution_count": 1,
   "metadata": {},
   "outputs": [
    {
     "name": "stdout",
     "output_type": "stream",
     "text": [
      "[0. 0. 2. 0. 0. 0. 2.]\n"
     ]
    }
   ],
   "source": [
    "import numpy as np\n",
    "def generate():\n",
    "    vec = np.zeros(7)\n",
    "    vec[2] = 2\n",
    "    vec[-1] = 2\n",
    "    print(vec)\n",
    "generate()"
   ]
  },
  {
   "cell_type": "markdown",
   "metadata": {},
   "source": [
    "**2. Create a vector of size 9 with values ranging from 0 to 2, both excluded.**"
   ]
  },
  {
   "cell_type": "code",
   "execution_count": 2,
   "metadata": {},
   "outputs": [
    {
     "name": "stdout",
     "output_type": "stream",
     "text": [
      "[0.2 0.4 0.6 0.8 1.  1.2 1.4 1.6 1.8]\n"
     ]
    }
   ],
   "source": [
    "import numpy as np\n",
    "def generate():\n",
    "    Vector = np.linspace(0, 2, num = 11, endpoint = True)[ 1:-1 ]\n",
    "    print(Vector)\n",
    "generate()"
   ]
  },
  {
   "cell_type": "markdown",
   "metadata": {},
   "source": [
    "**3. Convert the first character of each element in a series to uppercase?And return the new series. Hint: use map and lambda methods.**"
   ]
  },
  {
   "cell_type": "code",
   "execution_count": 4,
   "metadata": {},
   "outputs": [
    {
     "data": {
      "text/plain": [
       "0           Life\n",
       "1             Is\n",
       "2    Beautiful. \n",
       "3           Lets\n",
       "4        Cherish\n",
       "5            The\n",
       "6         Moment\n",
       "dtype: object"
      ]
     },
     "execution_count": 4,
     "metadata": {},
     "output_type": "execute_result"
    }
   ],
   "source": [
    "import pandas as pd\n",
    "series = pd.Series(['life', 'is', 'beautiful. ', 'lets' , 'cherish' ,'the' , 'moment'])\n",
    "def generate():\n",
    "    new_series = series.map(lambda x: x[0].upper() + x[1:])\n",
    "    return new_series\n",
    "generate()  "
   ]
  },
  {
   "cell_type": "markdown",
   "metadata": {},
   "source": [
    "**4. Given a 3*3 matrix named matrix_fab, From each element of this matrix subtract the mean of that row, name this matrix as matrix_sub. Divide each element of this matrix by twice of the largest element to get matrix_norm. Print it out.**"
   ]
  },
  {
   "cell_type": "code",
   "execution_count": 5,
   "metadata": {},
   "outputs": [
    {
     "name": "stdout",
     "output_type": "stream",
     "text": [
      "[[-0.5  0.   0.5]\n",
      " [-0.5  0.   0.5]\n",
      " [-0.5  0.   0.5]]\n"
     ]
    }
   ],
   "source": [
    "import numpy as np\n",
    "arr = np.arange(0,9)                                \n",
    "matrix_fab = arr.reshape(3,3)\n",
    "def generate():\n",
    "    matrix_sub = matrix_fab - matrix_fab.mean(axis = 1, keepdims = True)\n",
    "    max = matrix_sub.max()\n",
    "    matrix_norm = matrix_sub/(2*max)\n",
    "    print(matrix_norm)\n",
    "generate()"
   ]
  },
  {
   "cell_type": "markdown",
   "metadata": {},
   "source": [
    "**5. Create a random vector of size 12 , sort it in decreasing order, make 4*3 array using it.**\n",
    "\n",
    "Hint: use reshape and sorted function."
   ]
  },
  {
   "cell_type": "code",
   "execution_count": 6,
   "metadata": {},
   "outputs": [
    {
     "name": "stdout",
     "output_type": "stream",
     "text": [
      "[[0.98948073 0.96040295 0.79457372]\n",
      " [0.76786801 0.65036084 0.58581794]\n",
      " [0.41349279 0.3708142  0.26422529]\n",
      " [0.25793343 0.25183695 0.16122239]]\n"
     ]
    }
   ],
   "source": [
    "import numpy as np\n",
    "def generate():\n",
    "    rand_vect = np.random.random(12)\n",
    "    rand_sort = np.array(sorted(rand_vect,reverse=True))\n",
    "    rand_new = rand_sort.reshape(4,3)\n",
    "    print(rand_new)\n",
    "generate()"
   ]
  },
  {
   "cell_type": "markdown",
   "metadata": {},
   "source": [
    "**6. Below is Python dictionary data and Python list labels. Create a DataFrame df from this dictionary data which has index as labels. Select the rows where the age is missing, i.e. is NaN.**"
   ]
  },
  {
   "cell_type": "code",
   "execution_count": 7,
   "metadata": {},
   "outputs": [
    {
     "name": "stdout",
     "output_type": "stream",
     "text": [
      "   age animal priority  visits\n",
      "d  NaN    dog      yes       3\n",
      "h  NaN    cat      yes       1\n"
     ]
    }
   ],
   "source": [
    "import numpy as np\n",
    "data = {'animal': ['cat', 'cat', 'snake', 'dog', 'dog', 'cat', 'snake', 'cat', 'dog', 'dog'],\n",
    "        'age': [2.5, 3, 0.5, np.nan, 5, 2, 4.5, np.nan, 7, 3],\n",
    "        'visits': [1, 3, 2, 3, 2, 3, 1, 1, 2, 1],\n",
    "        'priority': ['yes', 'yes', 'no', 'yes', 'no', 'no', 'no', 'yes', 'no', 'no']}\n",
    "\n",
    "labels = ['a', 'b', 'c', 'd', 'e', 'f', 'g', 'h', 'i', 'j']\n",
    "import pandas as pd\n",
    "def generate():\n",
    "    df = pd.DataFrame(data, index=labels)\n",
    "    print(df[df['age'].isnull()])\n",
    "generate()"
   ]
  },
  {
   "cell_type": "markdown",
   "metadata": {},
   "source": [
    "**7. From the give dataframe df, in the 'animal' column change the 'dog' entries to 'Labrador', change the age in row 'd' to 2.7 and calculate the mean age (name it mean_age) for each different animal in df. Print df and return mean_age**"
   ]
  },
  {
   "cell_type": "code",
   "execution_count": 8,
   "metadata": {},
   "outputs": [
    {
     "name": "stdout",
     "output_type": "stream",
     "text": [
      "   age    animal priority  visits\n",
      "a  2.5       cat      yes       1\n",
      "b  3.0       cat      yes       3\n",
      "c  0.5     snake       no       2\n",
      "d  2.7  Labrador      yes       3\n",
      "e  5.0  Labrador       no       2\n",
      "f  2.0       cat       no       3\n",
      "g  4.5     snake       no       1\n",
      "h  NaN       cat      yes       1\n",
      "i  7.0  Labrador       no       2\n",
      "j  3.0  Labrador       no       1\n"
     ]
    },
    {
     "data": {
      "text/plain": [
       "animal\n",
       "Labrador    4.425\n",
       "cat         2.500\n",
       "snake       2.500\n",
       "Name: age, dtype: float64"
      ]
     },
     "execution_count": 8,
     "metadata": {},
     "output_type": "execute_result"
    }
   ],
   "source": [
    "import pandas as pd\n",
    "import numpy as np\n",
    "data = {'animal': ['cat', 'cat', 'snake', 'dog', 'dog', 'cat', 'snake', 'cat', 'dog', 'dog'],\n",
    "        'age': [2.5, 3, 0.5, np.nan, 5, 2, 4.5, np.nan, 7, 3],\n",
    "        'visits': [1, 3, 2, 3, 2, 3, 1, 1, 2, 1],\n",
    "        'priority': ['yes', 'yes', 'no', 'yes', 'no', 'no', 'no', 'yes', 'no', 'no']}\n",
    "\n",
    "labels = ['a', 'b', 'c', 'd', 'e', 'f', 'g', 'h', 'i', 'j']\n",
    "df = pd.DataFrame(data, index=labels)\n",
    "def generate():\n",
    "    df['animal'] = df['animal'].replace('dog', 'Labrador')\n",
    "    df.loc['d', 'age'] = 2.7  \n",
    "    mean_age = df.groupby('animal')['age'].mean()\n",
    "    print(df)\n",
    "    return mean_age\n",
    "generate()"
   ]
  },
  {
   "cell_type": "markdown",
   "metadata": {},
   "source": [
    "**8. From the given dataframe get the positions where values of two columns match?**"
   ]
  },
  {
   "cell_type": "code",
   "execution_count": 9,
   "metadata": {},
   "outputs": [
    {
     "name": "stdout",
     "output_type": "stream",
     "text": [
      "(array([0, 2, 3, 5, 6, 7], dtype=int64),)\n"
     ]
    }
   ],
   "source": [
    "import pandas as pd\n",
    "import numpy as np\n",
    "df = pd.DataFrame({'fruit1': np.random.choice(['apple', 'orange', 'banana'], 10),\n",
    "                    'fruit2': np.random.choice(['apple', 'orange', 'banana'], 10)})\n",
    "def generate():\n",
    "    s = np.where(df.fruit1 == df.fruit2)\n",
    "    print(s)\n",
    "    return None\n",
    "generate()"
   ]
  },
  {
   "cell_type": "markdown",
   "metadata": {},
   "source": [
    "**9. Find the positions of numbers that are multiples of 4 from a series? Print series and return position. Hint: use argwhere.**"
   ]
  },
  {
   "cell_type": "code",
   "execution_count": 10,
   "metadata": {},
   "outputs": [
    {
     "name": "stdout",
     "output_type": "stream",
     "text": [
      "0    5\n",
      "1    4\n",
      "2    2\n",
      "3    5\n",
      "4    5\n",
      "5    3\n",
      "6    4\n",
      "dtype: int32\n",
      "[[1]\n",
      " [6]]\n"
     ]
    }
   ],
   "source": [
    "import pandas as pd\n",
    "import numpy as np\n",
    "def generate():\n",
    "    series = pd.Series(np.random.randint(1, 10, 7))\n",
    "    pos=np.argwhere(series % 4 == 0 )\n",
    "    print(series)\n",
    "    print(pos)\n",
    "generate()"
   ]
  },
  {
   "cell_type": "markdown",
   "metadata": {},
   "source": [
    "**10. Stack two given series vertically and horizontally ?**"
   ]
  },
  {
   "cell_type": "code",
   "execution_count": 11,
   "metadata": {},
   "outputs": [
    {
     "name": "stdout",
     "output_type": "stream",
     "text": [
      "0    0\n",
      "1    1\n",
      "2    2\n",
      "3    3\n",
      "4    4\n",
      "0    a\n",
      "1    a\n",
      "2    n\n",
      "3    y\n",
      "4    p\n",
      "dtype: object\n",
      "   0  1\n",
      "0  0  a\n",
      "1  1  a\n",
      "2  2  n\n",
      "3  3  y\n",
      "4  4  p\n"
     ]
    }
   ],
   "source": [
    "import pandas as pd\n",
    "import numpy as np\n",
    "series1 = pd.Series(range(5))\n",
    "series2 = pd.Series(list('aanyp'))\n",
    "def generate():\n",
    "    verti = series1.append(series2)\n",
    "    print(verti)\n",
    "    hori = pd.concat([series1, series2], axis=1)\n",
    "    print(hori)\n",
    "    return None\n",
    "generate()"
   ]
  },
  {
   "cell_type": "code",
   "execution_count": null,
   "metadata": {},
   "outputs": [],
   "source": []
  }
 ],
 "metadata": {
  "kernelspec": {
   "display_name": "Python 3",
   "language": "python",
   "name": "python3"
  },
  "language_info": {
   "codemirror_mode": {
    "name": "ipython",
    "version": 3
   },
   "file_extension": ".py",
   "mimetype": "text/x-python",
   "name": "python",
   "nbconvert_exporter": "python",
   "pygments_lexer": "ipython3",
   "version": "3.6.1"
  }
 },
 "nbformat": 4,
 "nbformat_minor": 2
}
