{
 "cells": [
  {
   "cell_type": "markdown",
   "metadata": {},
   "source": [
    "# **Speed comparision between Numpy and Python Lists**"
   ]
  },
  {
   "cell_type": "code",
   "execution_count": 1,
   "metadata": {},
   "outputs": [
    {
     "name": "stdout",
     "output_type": "stream",
     "text": [
      "Pure Python version 0.2792\n",
      "Numpy version 0.0050\n",
      "Numpy is in this example 55.8769 times faster!\n"
     ]
    }
   ],
   "source": [
    "import time\n",
    "import numpy as np\n",
    "\n",
    "size_of_vec = 1000000\n",
    "\n",
    "def pure_python_version():                                                # This function will return the time for python calculation\n",
    "    time_python = time.time()                                             # Start time before operation\n",
    "    my_list1 = range(size_of_vec)                                         # Creating a list with 1000000 values\n",
    "    my_list2 = range(size_of_vec)\n",
    "    sum_list = [my_list1[i] + my_list2[i] for i in range(len(my_list1))]  # Calculating the sum\n",
    "    return time.time() - time_python                                      # Return Current time - start time\n",
    "\n",
    "def numpy_version():                                                      # This function will return the time for numpy calculation\n",
    "    time_numpy = time.time()                                              # Start time before operation\n",
    "    my_arr1 = np.arange(size_of_vec)                                      # Creating a numpy array of 1000000 values\n",
    "    my_arr2 = np.arange(size_of_vec)\n",
    "    sum_array = my_arr1 + my_arr2                                         # Calculate the sum\n",
    "    return time.time() - time_numpy                                       # Return current time - start time\n",
    "\n",
    "\n",
    "python_time = pure_python_version()                                       # Time taken for Python expression\n",
    "numpy_time = numpy_version()                                              # Time taken for numpy operation\n",
    "print(\"Pure Python version {:0.4f}\".format(python_time))\n",
    "print(\"Numpy version {:0.4f}\".format(numpy_time))\n",
    "print(\"Numpy is in this example {:0.4f} times faster!\".format(python_time/numpy_time))"
   ]
  },
  {
   "cell_type": "code",
   "execution_count": null,
   "metadata": {},
   "outputs": [],
   "source": []
  }
 ],
 "metadata": {
  "kernelspec": {
   "display_name": "Python 3",
   "language": "python",
   "name": "python3"
  },
  "language_info": {
   "codemirror_mode": {
    "name": "ipython",
    "version": 3
   },
   "file_extension": ".py",
   "mimetype": "text/x-python",
   "name": "python",
   "nbconvert_exporter": "python",
   "pygments_lexer": "ipython3",
   "version": "3.6.1"
  }
 },
 "nbformat": 4,
 "nbformat_minor": 2
}
