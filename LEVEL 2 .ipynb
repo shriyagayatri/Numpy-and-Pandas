{
 "cells": [
  {
   "cell_type": "markdown",
   "metadata": {},
   "source": [
    "# **LEVEL 2**"
   ]
  },
  {
   "cell_type": "markdown",
   "metadata": {},
   "source": []
  },
  {
   "cell_type": "markdown",
   "metadata": {},
   "source": [
    "**1. Form a 1D array containing elements from -2(including) to 10(excluding) in arithmetic progression with common difference 1.5 , negate all elements which are between 2 and 7, in place. Print out this new array.**"
   ]
  },
  {
   "cell_type": "code",
   "execution_count": 1,
   "metadata": {},
   "outputs": [
    {
     "data": {
      "text/plain": [
       "array([-2. , -0.5,  1. , -2.5, -4. , -5.5,  7. ,  8.5])"
      ]
     },
     "execution_count": 1,
     "metadata": {},
     "output_type": "execute_result"
    }
   ],
   "source": [
    "import numpy as np\n",
    "def generate():\n",
    "    arr = np.arange(-2, 10, 1.5)\n",
    "    arr[(arr> 2) & (arr < 7)] *= -1\n",
    "    return arr\n",
    "generate()"
   ]
  },
  {
   "cell_type": "markdown",
   "metadata": {},
   "source": [
    "**2. Create random vector of size 7 and replace the maximum value by 2 and minimum by 7. Sort this array in reverse order. Return the modified vector.**"
   ]
  },
  {
   "cell_type": "code",
   "execution_count": 2,
   "metadata": {},
   "outputs": [
    {
     "data": {
      "text/plain": [
       "array([7.        , 2.        , 0.74860678, 0.71679745, 0.54583489,\n",
       "       0.35590564, 0.13120769])"
      ]
     },
     "execution_count": 2,
     "metadata": {},
     "output_type": "execute_result"
    }
   ],
   "source": [
    "import numpy as np\n",
    "def generate():\n",
    "    random_vector = np.random.random(7)\n",
    "    random_vector[random_vector.argmax()] = 2\n",
    "    random_vector[random_vector.argmin()] = 7\n",
    "    modified_vector = np.array(sorted(random_vector,reverse = True))\n",
    "    return modified_vector\n",
    "generate()"
   ]
  },
  {
   "cell_type": "markdown",
   "metadata": {},
   "source": [
    "**3. Convert a random 7x2 matrix representing cartesian coordinates to polar coordinates. Print out both.**\n",
    "\n",
    "Hint: use arctan2()"
   ]
  },
  {
   "cell_type": "code",
   "execution_count": 3,
   "metadata": {},
   "outputs": [
    {
     "name": "stdout",
     "output_type": "stream",
     "text": [
      "[0.66809131 0.98304974 1.03258274 0.80852646 0.71894793 1.07031929\n",
      " 0.92481037]\n",
      "[0.46391979 0.94723556 0.95907921 1.2192302  1.51491103 0.63391\n",
      " 1.4068061 ]\n"
     ]
    }
   ],
   "source": [
    "import numpy as np\n",
    "def generate():\n",
    "    matrix = np.random.random((7,2))\n",
    "    row,column = matrix[:,0], matrix[:,1]\n",
    "    radial_coordinate = np.sqrt(row**2 + column**2)\n",
    "    angular_coordinate = np.arctan2(column, row)\n",
    "    print(radial_coordinate)\n",
    "    print(angular_coordinate) \n",
    "    return None\n",
    "generate()"
   ]
  },
  {
   "cell_type": "markdown",
   "metadata": {},
   "source": [
    "**4. Create an numpy array sequence named num_seq when only the starting point, step size and length of sequence is given.**"
   ]
  },
  {
   "cell_type": "code",
   "execution_count": 5,
   "metadata": {},
   "outputs": [
    {
     "data": {
      "text/plain": [
       "array([ 5,  7,  9, 11, 13, 15, 17, 19, 21, 23, 25, 27, 29, 31, 33])"
      ]
     },
     "execution_count": 5,
     "metadata": {},
     "output_type": "execute_result"
    }
   ],
   "source": [
    "import numpy as np\n",
    "\n",
    "length = 15\n",
    "start = 5\n",
    "step = 2\n",
    "\n",
    "def generate(start, length, step):\n",
    "    end = start + (step*length)\n",
    "    num_seq = np.arange(start, end, step)\n",
    "    return num_seq\n",
    "\n",
    "generate(start, length, step)"
   ]
  },
  {
   "cell_type": "markdown",
   "metadata": {},
   "source": [
    "**5. Make a 3*3 array using a 1d array of evenly spaced numbers ranging from 0 to 9, name it arr1.\n",
    "Then transpose it to obtain arr2. From arr2 subtract a 1*3 array with all elements 1 to get arr4. Return arr4.**\n",
    "\n",
    "HINT: Use reshape and transpose function."
   ]
  },
  {
   "cell_type": "code",
   "execution_count": 6,
   "metadata": {},
   "outputs": [
    {
     "data": {
      "text/plain": [
       "array([[-1,  2,  5],\n",
       "       [ 0,  3,  6],\n",
       "       [ 1,  4,  7]])"
      ]
     },
     "execution_count": 6,
     "metadata": {},
     "output_type": "execute_result"
    }
   ],
   "source": [
    "import numpy as np\n",
    "def generate():\n",
    "    arr = np.arange(0,9)                                \n",
    "    arr1 = arr.reshape(3,3) \n",
    "    arr2=arr1.transpose()\n",
    "    arr3=np.ones(3,dtype=int)\n",
    "    arr4=arr2-arr3\n",
    "    return arr4\n",
    "generate()"
   ]
  },
  {
   "cell_type": "markdown",
   "metadata": {},
   "source": [
    "**6. Create a DatetimeIndex that contains each business day of 2016 and use it to index a Series of random numbers. Let's call this Series bus_2k16. Hint: use pd.date_range.**"
   ]
  },
  {
   "cell_type": "code",
   "execution_count": 7,
   "metadata": {},
   "outputs": [
    {
     "name": "stdout",
     "output_type": "stream",
     "text": [
      "2016-01-01    0.271555\n",
      "2016-01-04    0.583283\n",
      "2016-01-05    0.401136\n",
      "2016-01-06    0.250179\n",
      "2016-01-07    0.128566\n",
      "2016-01-08    0.098462\n",
      "2016-01-11    0.856489\n",
      "2016-01-12    0.254759\n",
      "2016-01-13    0.485466\n",
      "2016-01-14    0.782258\n",
      "2016-01-15    0.163734\n",
      "2016-01-18    0.254019\n",
      "2016-01-19    0.036039\n",
      "2016-01-20    0.767556\n",
      "2016-01-21    0.063107\n",
      "2016-01-22    0.013342\n",
      "2016-01-25    0.015829\n",
      "2016-01-26    0.354130\n",
      "2016-01-27    0.371966\n",
      "2016-01-28    0.777087\n",
      "2016-01-29    0.618626\n",
      "2016-02-01    0.860232\n",
      "2016-02-02    0.587397\n",
      "2016-02-03    0.485359\n",
      "2016-02-04    0.516719\n",
      "2016-02-05    0.438297\n",
      "2016-02-08    0.278900\n",
      "2016-02-09    0.356606\n",
      "2016-02-10    0.072066\n",
      "2016-02-11    0.648117\n",
      "                ...   \n",
      "2016-11-21    0.323028\n",
      "2016-11-22    0.251418\n",
      "2016-11-23    0.988915\n",
      "2016-11-24    0.806198\n",
      "2016-11-25    0.514494\n",
      "2016-11-28    0.476627\n",
      "2016-11-29    0.668288\n",
      "2016-11-30    0.724604\n",
      "2016-12-01    0.116127\n",
      "2016-12-02    0.899424\n",
      "2016-12-05    0.561056\n",
      "2016-12-06    0.317861\n",
      "2016-12-07    0.973876\n",
      "2016-12-08    0.080087\n",
      "2016-12-09    0.637803\n",
      "2016-12-12    0.134636\n",
      "2016-12-13    0.135046\n",
      "2016-12-14    0.080605\n",
      "2016-12-15    0.413556\n",
      "2016-12-16    0.235875\n",
      "2016-12-19    0.773877\n",
      "2016-12-20    0.911023\n",
      "2016-12-21    0.534401\n",
      "2016-12-22    0.537857\n",
      "2016-12-23    0.960734\n",
      "2016-12-26    0.356191\n",
      "2016-12-27    0.538961\n",
      "2016-12-28    0.277635\n",
      "2016-12-29    0.778461\n",
      "2016-12-30    0.711913\n",
      "Freq: B, Length: 261, dtype: float64\n"
     ]
    }
   ],
   "source": [
    "import pandas as pd\n",
    "import numpy as np\n",
    "def generate():\n",
    "    dti = pd.date_range(start='2016-01-01', end='2016-12-31', freq='B') \n",
    "    bus_2k16 = pd.Series(np.random.rand(len(dti)), index=dti)\n",
    "    print(bus_2k16)\n",
    "generate()"
   ]
  },
  {
   "cell_type": "markdown",
   "metadata": {},
   "source": [
    "**7. For each calendar month in dataframe bus_2k16, from previous problem. Print out the mean of values also find the sum of the values in bus_2k16 for every Monday.**"
   ]
  },
  {
   "cell_type": "code",
   "execution_count": 8,
   "metadata": {},
   "outputs": [
    {
     "name": "stdout",
     "output_type": "stream",
     "text": [
      "2016-01-01    0.248948\n",
      "2016-01-04    0.285870\n",
      "2016-01-05    0.352201\n",
      "2016-01-06    0.048688\n",
      "2016-01-07    0.264308\n",
      "2016-01-08    0.820704\n",
      "2016-01-11    0.437383\n",
      "2016-01-12    0.199681\n",
      "2016-01-13    0.748526\n",
      "2016-01-14    0.156514\n",
      "2016-01-15    0.690750\n",
      "2016-01-18    0.355407\n",
      "2016-01-19    0.372182\n",
      "2016-01-20    0.270141\n",
      "2016-01-21    0.417030\n",
      "2016-01-22    0.080396\n",
      "2016-01-25    0.757760\n",
      "2016-01-26    0.657679\n",
      "2016-01-27    0.356861\n",
      "2016-01-28    0.983856\n",
      "2016-01-29    0.951300\n",
      "2016-02-01    0.331482\n",
      "2016-02-02    0.451046\n",
      "2016-02-03    0.544255\n",
      "2016-02-04    0.955034\n",
      "2016-02-05    0.107164\n",
      "2016-02-08    0.290796\n",
      "2016-02-09    0.546607\n",
      "2016-02-10    0.520488\n",
      "2016-02-11    0.083636\n",
      "                ...   \n",
      "2016-11-21    0.811314\n",
      "2016-11-22    0.710062\n",
      "2016-11-23    0.641975\n",
      "2016-11-24    0.069228\n",
      "2016-11-25    0.073079\n",
      "2016-11-28    0.155856\n",
      "2016-11-29    0.968518\n",
      "2016-11-30    0.732801\n",
      "2016-12-01    0.466106\n",
      "2016-12-02    0.693247\n",
      "2016-12-05    0.996329\n",
      "2016-12-06    0.222266\n",
      "2016-12-07    0.909357\n",
      "2016-12-08    0.523774\n",
      "2016-12-09    0.860222\n",
      "2016-12-12    0.107399\n",
      "2016-12-13    0.846489\n",
      "2016-12-14    0.543107\n",
      "2016-12-15    0.034960\n",
      "2016-12-16    0.565612\n",
      "2016-12-19    0.069725\n",
      "2016-12-20    0.390282\n",
      "2016-12-21    0.494370\n",
      "2016-12-22    0.412462\n",
      "2016-12-23    0.736269\n",
      "2016-12-26    0.345652\n",
      "2016-12-27    0.840238\n",
      "2016-12-28    0.017643\n",
      "2016-12-29    0.506956\n",
      "2016-12-30    0.663504\n",
      "Freq: B, Length: 261, dtype: float64\n",
      "2016-01-31    0.450295\n",
      "2016-02-29    0.471428\n",
      "2016-03-31    0.471493\n",
      "2016-04-30    0.463116\n",
      "2016-05-31    0.559707\n",
      "2016-06-30    0.474102\n",
      "2016-07-31    0.497841\n",
      "2016-08-31    0.485939\n",
      "2016-09-30    0.570101\n",
      "2016-10-31    0.497342\n",
      "2016-11-30    0.570226\n",
      "2016-12-31    0.511180\n",
      "Freq: M, dtype: float64\n",
      "24.631826495867386\n"
     ]
    }
   ],
   "source": [
    "import pandas as pd\n",
    "import numpy as np\n",
    "def generate():\n",
    "    dti = pd.date_range(start='2016-01-01', end='2016-12-31', freq='B') \n",
    "    bus_2k16 = pd.Series(np.random.rand(len(dti)), index=dti)\n",
    "    print(bus_2k16)\n",
    "    print(bus_2k16.resample('M').mean())\n",
    "    print(bus_2k16[bus_2k16.index.weekday == 0].sum())\n",
    "    return None\n",
    "generate()"
   ]
  },
  {
   "cell_type": "markdown",
   "metadata": {},
   "source": [
    "**8.Given the dataframe df, In the FromTo column split each string on the underscore delimiter to give a new temporary DataFrame with the correct values. Also standardise the strings so that only the first letter is uppercase (e.g. \"londON\" should become \"London\".) Assign the correct column names to this temporary DataFrame named as temp. Return temp.**"
   ]
  },
  {
   "cell_type": "code",
   "execution_count": 9,
   "metadata": {},
   "outputs": [
    {
     "data": {
      "text/html": [
       "<div>\n",
       "<style scoped>\n",
       "    .dataframe tbody tr th:only-of-type {\n",
       "        vertical-align: middle;\n",
       "    }\n",
       "\n",
       "    .dataframe tbody tr th {\n",
       "        vertical-align: top;\n",
       "    }\n",
       "\n",
       "    .dataframe thead th {\n",
       "        text-align: right;\n",
       "    }\n",
       "</style>\n",
       "<table border=\"1\" class=\"dataframe\">\n",
       "  <thead>\n",
       "    <tr style=\"text-align: right;\">\n",
       "      <th></th>\n",
       "      <th>From</th>\n",
       "      <th>To</th>\n",
       "    </tr>\n",
       "  </thead>\n",
       "  <tbody>\n",
       "    <tr>\n",
       "      <th>0</th>\n",
       "      <td>London</td>\n",
       "      <td>Paris</td>\n",
       "    </tr>\n",
       "    <tr>\n",
       "      <th>1</th>\n",
       "      <td>Madrid</td>\n",
       "      <td>Milan</td>\n",
       "    </tr>\n",
       "    <tr>\n",
       "      <th>2</th>\n",
       "      <td>London</td>\n",
       "      <td>Stockholm</td>\n",
       "    </tr>\n",
       "    <tr>\n",
       "      <th>3</th>\n",
       "      <td>Budapest</td>\n",
       "      <td>Paris</td>\n",
       "    </tr>\n",
       "    <tr>\n",
       "      <th>4</th>\n",
       "      <td>Brussels</td>\n",
       "      <td>London</td>\n",
       "    </tr>\n",
       "  </tbody>\n",
       "</table>\n",
       "</div>"
      ],
      "text/plain": [
       "       From         To\n",
       "0    London      Paris\n",
       "1    Madrid      Milan\n",
       "2    London  Stockholm\n",
       "3  Budapest      Paris\n",
       "4  Brussels     London"
      ]
     },
     "execution_count": 9,
     "metadata": {},
     "output_type": "execute_result"
    }
   ],
   "source": [
    "import numpy as np\n",
    "df = pd.DataFrame({'From_To': ['LoNDon_paris', 'MAdrid_miLAN', 'londON_StockhOlm', \n",
    "                               'Budapest_PaRis', 'Brussels_londOn'],\n",
    "              'FlightNumber': [10045, np.nan, 10065, np.nan, 10085],\n",
    "              'RecentDelays': [[23, 47], [], [24, 43, 87], [13], [67, 32]],\n",
    "                   'Airline': ['KLM(!)', '<Air France> (12)', '(British Airways. )', \n",
    "                               '12. Air France', '\"Swiss Air\"']})\n",
    "import pandas as pd\n",
    "def generate():\n",
    "    temp = df.From_To.str.split('_', expand=True)\n",
    "    temp.columns = ['From', 'To']\n",
    "    temp['From'] = temp['From'].str.capitalize()\n",
    "    temp['To'] = temp['To'].str.capitalize()\n",
    "    return temp\n",
    "generate()"
   ]
  },
  {
   "cell_type": "markdown",
   "metadata": {},
   "source": [
    "**9. Given a dataFrame with 10 columns of real numbers. Find that column's label which has the smallest sum? Also count the number of unique rows the dataframe has.**\n",
    "\n",
    "Hint: use idxmin method."
   ]
  },
  {
   "cell_type": "code",
   "execution_count": 10,
   "metadata": {},
   "outputs": [
    {
     "name": "stdout",
     "output_type": "stream",
     "text": [
      "z\n",
      "4\n"
     ]
    }
   ],
   "source": [
    "import pandas as pd\n",
    "import numpy as np\n",
    "df = pd.DataFrame(np.random.random(size=(4, 10)), columns=list('qrstuvwxyz'))\n",
    "def generate():\n",
    "    print(df.sum().idxmin())\n",
    "    print(len(df) - df.duplicated(keep=False).sum())\n",
    "    return None\n",
    "generate()"
   ]
  },
  {
   "cell_type": "markdown",
   "metadata": {},
   "source": [
    "**10. Given a dataFrame df with a column 'int' of integers. Print out the dataframe with filtered out rows which contain the same integer as the row immediately above. Also print out the dataframe after subtracting the mean of all integers from each element.**\n",
    "\n",
    "Hint: use drop_duplicates and sub methods"
   ]
  },
  {
   "cell_type": "code",
   "execution_count": 11,
   "metadata": {},
   "outputs": [
    {
     "name": "stdout",
     "output_type": "stream",
     "text": [
      "   int\n",
      "0    1\n",
      "1    2\n",
      "3    3\n",
      "4    4\n",
      "5    5\n",
      "8    6\n",
      "9    7\n",
      "         int\n",
      "0  -3.272727\n",
      "1  -2.272727\n",
      "2  -2.272727\n",
      "3  -1.272727\n",
      "4  -0.272727\n",
      "5   0.727273\n",
      "6   0.727273\n",
      "7   0.727273\n",
      "8   1.727273\n",
      "9   2.727273\n",
      "10  2.727273\n"
     ]
    }
   ],
   "source": [
    "import pandas as pd\n",
    "df = pd.DataFrame({'int': [1, 2, 2, 3, 4, 5, 5, 5, 6, 7, 7]})\n",
    "def generate():\n",
    "    print(df.drop_duplicates(subset='int'))\n",
    "    print(df.sub(df.mean(axis=0), axis=1))\n",
    "    return None\n",
    "generate()"
   ]
  },
  {
   "cell_type": "code",
   "execution_count": null,
   "metadata": {},
   "outputs": [],
   "source": []
  }
 ],
 "metadata": {
  "kernelspec": {
   "display_name": "Python 3",
   "language": "python",
   "name": "python3"
  },
  "language_info": {
   "codemirror_mode": {
    "name": "ipython",
    "version": 3
   },
   "file_extension": ".py",
   "mimetype": "text/x-python",
   "name": "python",
   "nbconvert_exporter": "python",
   "pygments_lexer": "ipython3",
   "version": "3.6.1"
  }
 },
 "nbformat": 4,
 "nbformat_minor": 2
}
